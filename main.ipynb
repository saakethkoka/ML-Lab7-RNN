{
 "cells": [
  {
   "cell_type": "code",
   "execution_count": 1,
   "metadata": {},
   "outputs": [],
   "source": [
    "import pandas as pd\n",
    "import matplotlib.pyplot as plt"
   ]
  },
  {
   "cell_type": "code",
   "execution_count": 2,
   "metadata": {},
   "outputs": [],
   "source": [
    "# https://www.kaggle.com/datasets/kazanova/sentiment140?resource=download\n",
    "data = pd.read_csv(\"training.1600000.processed.noemoticon.csv\", encoding=\"ISO-8859-1\", header=None)\n",
    "data = data[[0,5]]\n",
    "data.columns = [\"sentiment\", \"text\"]\n",
    "\n",
    "data[\"sentiment\"] = data[\"sentiment\"].replace(4, 1)"
   ]
  },
  {
   "cell_type": "code",
   "execution_count": 3,
   "metadata": {},
   "outputs": [
    {
     "data": {
      "image/png": "[encoded data removed]",
      "text/plain": [
       "<Figure size 432x288 with 1 Axes>"
      ]
     },
     "metadata": {
      "needs_background": "light"
     },
     "output_type": "display_data"
    }
   ],
   "source": [
    "# Calculating number of words in each tweet:\n",
    "data[\"word_count\"] = data[\"text\"].apply(lambda x: len(x.split()))\n",
    "# plot histogram of number of words:\n",
    "plt.hist(data[\"word_count\"], bins=20)\n",
    "plt.title(\"Histogram of number of words in each tweet\")\n",
    "plt.xlabel(\"Number of words\")\n",
    "plt.ylabel(\"Number of tweets\")\n",
    "data.drop(\"word_count\", axis=1, inplace=True)"
   ]
  },
  {
   "cell_type": "markdown",
   "metadata": {},
   "source": [
    "Due to twitter forcably limiting the number of characters, the number of words in each tweet are fairly constrained to under 30 words per tweet. For this reason we find it appropriate to use 30 word fixed length sequcnes for our models."
   ]
  },
  {
   "cell_type": "code",
   "execution_count": 4,
   "metadata": {},
   "outputs": [
    {
     "data": {
      "text/plain": [
       "1    800000\n",
       "0    800000\n",
       "Name: sentiment, dtype: int64"
      ]
     },
     "execution_count": 4,
     "metadata": {},
     "output_type": "execute_result"
    }
   ],
   "source": [
    "data.sentiment.value_counts()"
   ]
  },
  {
   "cell_type": "markdown",
   "metadata": {},
   "source": [
    "## Metrics\n",
    "#### Accuracy:\n",
    "\n",
    "Because the dataset is balanced, accuracy is an appropriate metric to use on our dataset. Our models will potentially be used to measure sentiment regarding certain topics on twitter and accuracy is a good measure to gauge the classification performance for that task.\n"
   ]
  },
  {
   "cell_type": "markdown",
   "metadata": {},
   "source": [
    "## Splitting:\n",
    "\n",
    "We will use a stratified train test split. We have enough data, 1.6M tweets split amoung two classes is enough data to train and test with. "
   ]
  },
  {
   "cell_type": "code",
   "execution_count": 5,
   "metadata": {},
   "outputs": [],
   "source": [
    "from sklearn.model_selection import train_test_split"
   ]
  },
  {
   "cell_type": "markdown",
   "metadata": {},
   "source": []
  }
 ],
 "metadata": {
  "kernelspec": {
   "display_name": "Python 3.8.3 ('base')",
   "language": "python",
   "name": "python3"
  },
  "language_info": {
   "codemirror_mode": {
    "name": "ipython",
    "version": 3
   },
   "file_extension": ".py",
   "mimetype": "text/x-python",
   "name": "python",
   "nbconvert_exporter": "python",
   "pygments_lexer": "ipython3",
   "version": "3.8.3"
  },
  "orig_nbformat": 4,
  "vscode": {
   "interpreter": {
    "hash": "5cf3adf616e33df8fa5658772e64b4f0f2254473e5d618a082e9a94e9d74aa87"
   }
  }
 },
 "nbformat": 4,
 "nbformat_minor": 2
}
